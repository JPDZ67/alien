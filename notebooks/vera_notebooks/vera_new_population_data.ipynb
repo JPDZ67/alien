{
 "cells": [
  {
   "cell_type": "code",
   "execution_count": 1,
   "id": "5f8d9019",
   "metadata": {},
   "outputs": [],
   "source": [
    "import pandas as pd\n",
    "import numpy as np"
   ]
  },
  {
   "cell_type": "code",
   "execution_count": 2,
   "id": "2ec5cfec",
   "metadata": {},
   "outputs": [],
   "source": [
    "data = pd.read_excel('../../raw_data/State_Population_Data_2000_2019.xls', sheet_name=\"Sheet1\")"
   ]
  },
  {
   "cell_type": "code",
   "execution_count": 3,
   "id": "1f2adbd0",
   "metadata": {},
   "outputs": [
    {
     "data": {
      "text/html": [
       "<div>\n",
       "<style scoped>\n",
       "    .dataframe tbody tr th:only-of-type {\n",
       "        vertical-align: middle;\n",
       "    }\n",
       "\n",
       "    .dataframe tbody tr th {\n",
       "        vertical-align: top;\n",
       "    }\n",
       "\n",
       "    .dataframe thead th {\n",
       "        text-align: right;\n",
       "    }\n",
       "</style>\n",
       "<table border=\"1\" class=\"dataframe\">\n",
       "  <thead>\n",
       "    <tr style=\"text-align: right;\">\n",
       "      <th></th>\n",
       "      <th>observation_date</th>\n",
       "      <th>state</th>\n",
       "      <th>population</th>\n",
       "    </tr>\n",
       "  </thead>\n",
       "  <tbody>\n",
       "    <tr>\n",
       "      <th>0</th>\n",
       "      <td>1950-01-01</td>\n",
       "      <td>ak</td>\n",
       "      <td>135.0</td>\n",
       "    </tr>\n",
       "    <tr>\n",
       "      <th>1</th>\n",
       "      <td>1950-01-01</td>\n",
       "      <td>al</td>\n",
       "      <td>3058.0</td>\n",
       "    </tr>\n",
       "    <tr>\n",
       "      <th>2</th>\n",
       "      <td>1950-01-01</td>\n",
       "      <td>ar</td>\n",
       "      <td>1908.0</td>\n",
       "    </tr>\n",
       "    <tr>\n",
       "      <th>3</th>\n",
       "      <td>1950-01-01</td>\n",
       "      <td>az</td>\n",
       "      <td>756.0</td>\n",
       "    </tr>\n",
       "    <tr>\n",
       "      <th>4</th>\n",
       "      <td>1950-01-01</td>\n",
       "      <td>ca</td>\n",
       "      <td>10677.0</td>\n",
       "    </tr>\n",
       "  </tbody>\n",
       "</table>\n",
       "</div>"
      ],
      "text/plain": [
       "  observation_date state  population\n",
       "0       1950-01-01    ak       135.0\n",
       "1       1950-01-01    al      3058.0\n",
       "2       1950-01-01    ar      1908.0\n",
       "3       1950-01-01    az       756.0\n",
       "4       1950-01-01    ca     10677.0"
      ]
     },
     "execution_count": 3,
     "metadata": {},
     "output_type": "execute_result"
    }
   ],
   "source": [
    "data.head()"
   ]
  },
  {
   "cell_type": "code",
   "execution_count": 4,
   "id": "1c8d4260",
   "metadata": {},
   "outputs": [],
   "source": [
    "data['day'] = data['observation_date'].apply(lambda x: x.strftime(\"%Y-%m-%d\"))\n",
    "data['month'] = data['observation_date'].apply(lambda x: x.strftime(\"%Y-%m\"))\n",
    "data['month_number'] = data['observation_date'].apply(lambda x: int(x.month))\n",
    "data['year_number'] = data['observation_date'].apply(lambda x: int(x.year))"
   ]
  },
  {
   "cell_type": "code",
   "execution_count": 5,
   "id": "f484267a",
   "metadata": {},
   "outputs": [],
   "source": [
    "seasons = ['winter','winter','spring','spring','spring','summer','summer','summer','autumn','autumn','autumn','winter']\n",
    "month_to_season = dict(zip(range(1,13), seasons))\n",
    "data['season'] = data.month_number.map(month_to_season)\n",
    "data['year_season'] = data['year_number'].astype(str)+'-'+data['season']"
   ]
  },
  {
   "cell_type": "code",
   "execution_count": 6,
   "id": "46f33f98",
   "metadata": {},
   "outputs": [],
   "source": [
    "def value_count_func (series_):\n",
    "    return len(series_.value_counts())\n",
    "\n",
    "def state_season_df (data_, state_):\n",
    "    \n",
    "    data_state = data_[data_['state'] == state_]\n",
    "    \n",
    "    data_state_season = data_state.groupby(by='year_season').agg({'population':'first'})\n",
    "       \n",
    "    data_state_season['state'] = state_\n",
    "    \n",
    "    return data_state_season.reset_index().set_index('state')"
   ]
  },
  {
   "cell_type": "code",
   "execution_count": 7,
   "id": "b541ea66",
   "metadata": {},
   "outputs": [],
   "source": [
    "STATES_ = list(data.state.unique()) \n",
    "x_ = pd.DataFrame()\n",
    "\n",
    "for st_ in STATES_:\n",
    "    \n",
    "    y_ = state_season_df (data, st_)\n",
    "    x_ = pd.concat([x_,y_])\n",
    "    \n",
    "x_ = x_.reset_index()"
   ]
  },
  {
   "cell_type": "code",
   "execution_count": 8,
   "id": "77c56a5e",
   "metadata": {},
   "outputs": [],
   "source": [
    "x_[['year', 'season']] = x_['year_season'].str.split('-',expand=True)\n",
    "x_ = x_[x_['year']>'1974'].reset_index(drop=True)\n",
    "y_ = x_.iloc[np.arange(len(x_)).repeat(4)].reset_index(drop=True)\n",
    "y_.drop(columns = ['season', 'year_season'], inplace = True)\n",
    "seasons_ = pd.DataFrame({'season':['winter', 'spring','summer', 'autumn']})\n",
    "seasons_ = seasons_.iloc[np.tile(np.arange(len(seasons_)), len(x_))]. reset_index(drop = True)\n",
    "merged = y_.join(seasons_, lsuffix='_caller', rsuffix='_other')\n",
    "merged['year_season'] = merged['year'].astype(str)+'-'+merged['season']\n"
   ]
  },
  {
   "cell_type": "code",
   "execution_count": 9,
   "id": "b19e2c72",
   "metadata": {},
   "outputs": [
    {
     "data": {
      "text/html": [
       "<div>\n",
       "<style scoped>\n",
       "    .dataframe tbody tr th:only-of-type {\n",
       "        vertical-align: middle;\n",
       "    }\n",
       "\n",
       "    .dataframe tbody tr th {\n",
       "        vertical-align: top;\n",
       "    }\n",
       "\n",
       "    .dataframe thead th {\n",
       "        text-align: right;\n",
       "    }\n",
       "</style>\n",
       "<table border=\"1\" class=\"dataframe\">\n",
       "  <thead>\n",
       "    <tr style=\"text-align: right;\">\n",
       "      <th></th>\n",
       "      <th>state</th>\n",
       "      <th>population</th>\n",
       "      <th>year</th>\n",
       "      <th>season</th>\n",
       "      <th>year_season</th>\n",
       "    </tr>\n",
       "  </thead>\n",
       "  <tbody>\n",
       "    <tr>\n",
       "      <th>0</th>\n",
       "      <td>ak</td>\n",
       "      <td>376.170</td>\n",
       "      <td>1975</td>\n",
       "      <td>winter</td>\n",
       "      <td>1975-winter</td>\n",
       "    </tr>\n",
       "    <tr>\n",
       "      <th>1</th>\n",
       "      <td>ak</td>\n",
       "      <td>376.170</td>\n",
       "      <td>1975</td>\n",
       "      <td>spring</td>\n",
       "      <td>1975-spring</td>\n",
       "    </tr>\n",
       "    <tr>\n",
       "      <th>2</th>\n",
       "      <td>ak</td>\n",
       "      <td>376.170</td>\n",
       "      <td>1975</td>\n",
       "      <td>summer</td>\n",
       "      <td>1975-summer</td>\n",
       "    </tr>\n",
       "    <tr>\n",
       "      <th>3</th>\n",
       "      <td>ak</td>\n",
       "      <td>376.170</td>\n",
       "      <td>1975</td>\n",
       "      <td>autumn</td>\n",
       "      <td>1975-autumn</td>\n",
       "    </tr>\n",
       "    <tr>\n",
       "      <th>4</th>\n",
       "      <td>ak</td>\n",
       "      <td>400.969</td>\n",
       "      <td>1976</td>\n",
       "      <td>winter</td>\n",
       "      <td>1976-winter</td>\n",
       "    </tr>\n",
       "  </tbody>\n",
       "</table>\n",
       "</div>"
      ],
      "text/plain": [
       "  state  population  year  season  year_season\n",
       "0    ak     376.170  1975  winter  1975-winter\n",
       "1    ak     376.170  1975  spring  1975-spring\n",
       "2    ak     376.170  1975  summer  1975-summer\n",
       "3    ak     376.170  1975  autumn  1975-autumn\n",
       "4    ak     400.969  1976  winter  1976-winter"
      ]
     },
     "execution_count": 9,
     "metadata": {},
     "output_type": "execute_result"
    }
   ],
   "source": [
    "merged.head()"
   ]
  },
  {
   "cell_type": "code",
   "execution_count": 10,
   "id": "34d50ac2",
   "metadata": {},
   "outputs": [],
   "source": [
    "merged.to_csv('../../raw_data/population_by_state_season.csv',header=True,index=False)"
   ]
  }
 ],
 "metadata": {
  "kernelspec": {
   "display_name": "Python 3",
   "language": "python",
   "name": "python3"
  },
  "language_info": {
   "codemirror_mode": {
    "name": "ipython",
    "version": 3
   },
   "file_extension": ".py",
   "mimetype": "text/x-python",
   "name": "python",
   "nbconvert_exporter": "python",
   "pygments_lexer": "ipython3",
   "version": "3.8.6"
  },
  "toc": {
   "base_numbering": 1,
   "nav_menu": {},
   "number_sections": true,
   "sideBar": true,
   "skip_h1_title": false,
   "title_cell": "Table of Contents",
   "title_sidebar": "Contents",
   "toc_cell": false,
   "toc_position": {},
   "toc_section_display": true,
   "toc_window_display": false
  }
 },
 "nbformat": 4,
 "nbformat_minor": 5
}
