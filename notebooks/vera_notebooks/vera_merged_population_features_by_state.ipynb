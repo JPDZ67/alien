{
 "cells": [
  {
   "cell_type": "code",
   "execution_count": 1,
   "id": "8d8bf1e4",
   "metadata": {},
   "outputs": [],
   "source": [
    "import pandas as pd\n",
    "import numpy as np"
   ]
  },
  {
   "cell_type": "code",
   "execution_count": 2,
   "id": "6e5726d5",
   "metadata": {},
   "outputs": [],
   "source": [
    "# the features by state season csv\n",
    "features_df = pd.read_csv('../../raw_data/features_by_state_season.csv', low_memory=False)\n",
    "features_df.drop(columns= ['state_population', 'state_military_bases', 'state_cities'], inplace = True)\n",
    "# the population by state season csv\n",
    "population_df = pd.read_csv('../../raw_data/population_by_state_season.csv', low_memory=False)"
   ]
  },
  {
   "cell_type": "code",
   "execution_count": 6,
   "id": "c41c051e",
   "metadata": {},
   "outputs": [],
   "source": [
    "merged_df = features_df.merge(population_df, on=['state', 'year_season'], how = 'left')"
   ]
  },
  {
   "cell_type": "code",
   "execution_count": 8,
   "id": "e43e6705",
   "metadata": {},
   "outputs": [],
   "source": [
    "merged_df = merged_df.replace(np.nan, 0)"
   ]
  },
  {
   "cell_type": "code",
   "execution_count": 9,
   "id": "bf3fe65c",
   "metadata": {},
   "outputs": [
    {
     "data": {
      "text/html": [
       "<div>\n",
       "<style scoped>\n",
       "    .dataframe tbody tr th:only-of-type {\n",
       "        vertical-align: middle;\n",
       "    }\n",
       "\n",
       "    .dataframe tbody tr th {\n",
       "        vertical-align: top;\n",
       "    }\n",
       "\n",
       "    .dataframe thead th {\n",
       "        text-align: right;\n",
       "    }\n",
       "</style>\n",
       "<table border=\"1\" class=\"dataframe\">\n",
       "  <thead>\n",
       "    <tr style=\"text-align: right;\">\n",
       "      <th></th>\n",
       "      <th>state</th>\n",
       "      <th>year_season</th>\n",
       "      <th>sightings</th>\n",
       "      <th>avg_duration(seconds)</th>\n",
       "      <th>sightings_cities</th>\n",
       "      <th>shape</th>\n",
       "      <th>sightings_days</th>\n",
       "      <th>population</th>\n",
       "    </tr>\n",
       "  </thead>\n",
       "  <tbody>\n",
       "    <tr>\n",
       "      <th>0</th>\n",
       "      <td>mo</td>\n",
       "      <td>1910-winter</td>\n",
       "      <td>1</td>\n",
       "      <td>120.0</td>\n",
       "      <td>1</td>\n",
       "      <td>disk</td>\n",
       "      <td>1</td>\n",
       "      <td>0.0</td>\n",
       "    </tr>\n",
       "    <tr>\n",
       "      <th>1</th>\n",
       "      <td>mo</td>\n",
       "      <td>1947-summer</td>\n",
       "      <td>1</td>\n",
       "      <td>1140.0</td>\n",
       "      <td>1</td>\n",
       "      <td>cylinder</td>\n",
       "      <td>1</td>\n",
       "      <td>0.0</td>\n",
       "    </tr>\n",
       "    <tr>\n",
       "      <th>2</th>\n",
       "      <td>mo</td>\n",
       "      <td>1950-summer</td>\n",
       "      <td>1</td>\n",
       "      <td>900.0</td>\n",
       "      <td>1</td>\n",
       "      <td>disk</td>\n",
       "      <td>1</td>\n",
       "      <td>0.0</td>\n",
       "    </tr>\n",
       "    <tr>\n",
       "      <th>3</th>\n",
       "      <td>mo</td>\n",
       "      <td>1952-autumn</td>\n",
       "      <td>1</td>\n",
       "      <td>90.0</td>\n",
       "      <td>1</td>\n",
       "      <td>disk</td>\n",
       "      <td>1</td>\n",
       "      <td>0.0</td>\n",
       "    </tr>\n",
       "    <tr>\n",
       "      <th>4</th>\n",
       "      <td>mo</td>\n",
       "      <td>1953-summer</td>\n",
       "      <td>1</td>\n",
       "      <td>300.0</td>\n",
       "      <td>1</td>\n",
       "      <td>fireball</td>\n",
       "      <td>1</td>\n",
       "      <td>0.0</td>\n",
       "    </tr>\n",
       "  </tbody>\n",
       "</table>\n",
       "</div>"
      ],
      "text/plain": [
       "  state  year_season  sightings  avg_duration(seconds)  sightings_cities  \\\n",
       "0    mo  1910-winter          1                  120.0                 1   \n",
       "1    mo  1947-summer          1                 1140.0                 1   \n",
       "2    mo  1950-summer          1                  900.0                 1   \n",
       "3    mo  1952-autumn          1                   90.0                 1   \n",
       "4    mo  1953-summer          1                  300.0                 1   \n",
       "\n",
       "      shape  sightings_days  population  \n",
       "0      disk               1         0.0  \n",
       "1  cylinder               1         0.0  \n",
       "2      disk               1         0.0  \n",
       "3      disk               1         0.0  \n",
       "4  fireball               1         0.0  "
      ]
     },
     "execution_count": 9,
     "metadata": {},
     "output_type": "execute_result"
    }
   ],
   "source": [
    "merged_df.head()"
   ]
  },
  {
   "cell_type": "code",
   "execution_count": null,
   "id": "851e8855",
   "metadata": {},
   "outputs": [],
   "source": []
  },
  {
   "cell_type": "code",
   "execution_count": null,
   "id": "6096e7c1",
   "metadata": {},
   "outputs": [],
   "source": []
  },
  {
   "cell_type": "code",
   "execution_count": null,
   "id": "d09f9a65",
   "metadata": {},
   "outputs": [],
   "source": []
  },
  {
   "cell_type": "code",
   "execution_count": null,
   "id": "c3aa0799",
   "metadata": {},
   "outputs": [],
   "source": []
  },
  {
   "cell_type": "code",
   "execution_count": null,
   "id": "85eccbe6",
   "metadata": {},
   "outputs": [],
   "source": []
  },
  {
   "cell_type": "code",
   "execution_count": null,
   "id": "56ac23ba",
   "metadata": {},
   "outputs": [],
   "source": []
  },
  {
   "cell_type": "code",
   "execution_count": 12,
   "id": "5eb21547",
   "metadata": {},
   "outputs": [],
   "source": [
    "merged_df.to_csv('../../raw_data/merged_df.csv',header=True,index=False)"
   ]
  }
 ],
 "metadata": {
  "kernelspec": {
   "display_name": "Python 3",
   "language": "python",
   "name": "python3"
  },
  "language_info": {
   "codemirror_mode": {
    "name": "ipython",
    "version": 3
   },
   "file_extension": ".py",
   "mimetype": "text/x-python",
   "name": "python",
   "nbconvert_exporter": "python",
   "pygments_lexer": "ipython3",
   "version": "3.8.6"
  },
  "toc": {
   "base_numbering": 1,
   "nav_menu": {},
   "number_sections": true,
   "sideBar": true,
   "skip_h1_title": false,
   "title_cell": "Table of Contents",
   "title_sidebar": "Contents",
   "toc_cell": false,
   "toc_position": {},
   "toc_section_display": true,
   "toc_window_display": false
  }
 },
 "nbformat": 4,
 "nbformat_minor": 5
}
