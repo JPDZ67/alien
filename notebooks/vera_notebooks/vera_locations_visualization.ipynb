{
 "cells": [
  {
   "cell_type": "code",
   "execution_count": 1,
   "id": "cf9691b6",
   "metadata": {},
   "outputs": [],
   "source": [
    "from datetime import timedelta\n",
    "import pandas as pd\n",
    "import numpy as np\n",
    "import matplotlib.pyplot as plt\n",
    "import seaborn as sns\n",
    "import reverse_geocoder as rg\n",
    "from funpymodeling.exploratory import freq_tbl, status, profiling_num, cat_vars, num_vars\n",
    "%matplotlib inline"
   ]
  },
  {
   "cell_type": "code",
   "execution_count": 2,
   "id": "5be39199",
   "metadata": {},
   "outputs": [],
   "source": [
    "# Reading main database from scrubbed_data\n",
    "df_aliens = pd.read_csv('../raw_data/scrubbed.csv', low_memory=False)"
   ]
  },
  {
   "cell_type": "markdown",
   "id": "a9894549",
   "metadata": {},
   "source": [
    "# Cleaning the locations portion of the original alien scrubbed dataset"
   ]
  },
  {
   "cell_type": "markdown",
   "id": "c23becef",
   "metadata": {},
   "source": [
    "## Reading and cleaning"
   ]
  },
  {
   "cell_type": "code",
   "execution_count": 3,
   "id": "0dfd9747",
   "metadata": {
    "scrolled": true
   },
   "outputs": [
    {
     "data": {
      "text/html": [
       "<div>\n",
       "<style scoped>\n",
       "    .dataframe tbody tr th:only-of-type {\n",
       "        vertical-align: middle;\n",
       "    }\n",
       "\n",
       "    .dataframe tbody tr th {\n",
       "        vertical-align: top;\n",
       "    }\n",
       "\n",
       "    .dataframe thead th {\n",
       "        text-align: right;\n",
       "    }\n",
       "</style>\n",
       "<table border=\"1\" class=\"dataframe\">\n",
       "  <thead>\n",
       "    <tr style=\"text-align: right;\">\n",
       "      <th></th>\n",
       "      <th>datetime</th>\n",
       "      <th>city</th>\n",
       "      <th>state</th>\n",
       "      <th>country</th>\n",
       "      <th>shape</th>\n",
       "      <th>duration (seconds)</th>\n",
       "      <th>duration (hours/min)</th>\n",
       "      <th>comments</th>\n",
       "      <th>date posted</th>\n",
       "      <th>latitude</th>\n",
       "      <th>longitude</th>\n",
       "    </tr>\n",
       "  </thead>\n",
       "  <tbody>\n",
       "    <tr>\n",
       "      <th>0</th>\n",
       "      <td>10/10/1949 20:30</td>\n",
       "      <td>san marcos</td>\n",
       "      <td>tx</td>\n",
       "      <td>us</td>\n",
       "      <td>cylinder</td>\n",
       "      <td>2700</td>\n",
       "      <td>45 minutes</td>\n",
       "      <td>This event took place in early fall around 194...</td>\n",
       "      <td>4/27/2004</td>\n",
       "      <td>29.8830556</td>\n",
       "      <td>-97.941111</td>\n",
       "    </tr>\n",
       "    <tr>\n",
       "      <th>1</th>\n",
       "      <td>10/10/1949 21:00</td>\n",
       "      <td>lackland afb</td>\n",
       "      <td>tx</td>\n",
       "      <td>NaN</td>\n",
       "      <td>light</td>\n",
       "      <td>7200</td>\n",
       "      <td>1-2 hrs</td>\n",
       "      <td>1949 Lackland AFB&amp;#44 TX.  Lights racing acros...</td>\n",
       "      <td>12/16/2005</td>\n",
       "      <td>29.38421</td>\n",
       "      <td>-98.581082</td>\n",
       "    </tr>\n",
       "    <tr>\n",
       "      <th>2</th>\n",
       "      <td>10/10/1955 17:00</td>\n",
       "      <td>chester (uk/england)</td>\n",
       "      <td>NaN</td>\n",
       "      <td>gb</td>\n",
       "      <td>circle</td>\n",
       "      <td>20</td>\n",
       "      <td>20 seconds</td>\n",
       "      <td>Green/Orange circular disc over Chester&amp;#44 En...</td>\n",
       "      <td>1/21/2008</td>\n",
       "      <td>53.2</td>\n",
       "      <td>-2.916667</td>\n",
       "    </tr>\n",
       "    <tr>\n",
       "      <th>3</th>\n",
       "      <td>10/10/1956 21:00</td>\n",
       "      <td>edna</td>\n",
       "      <td>tx</td>\n",
       "      <td>us</td>\n",
       "      <td>circle</td>\n",
       "      <td>20</td>\n",
       "      <td>1/2 hour</td>\n",
       "      <td>My older brother and twin sister were leaving ...</td>\n",
       "      <td>1/17/2004</td>\n",
       "      <td>28.9783333</td>\n",
       "      <td>-96.645833</td>\n",
       "    </tr>\n",
       "    <tr>\n",
       "      <th>4</th>\n",
       "      <td>10/10/1960 20:00</td>\n",
       "      <td>kaneohe</td>\n",
       "      <td>hi</td>\n",
       "      <td>us</td>\n",
       "      <td>light</td>\n",
       "      <td>900</td>\n",
       "      <td>15 minutes</td>\n",
       "      <td>AS a Marine 1st Lt. flying an FJ4B fighter/att...</td>\n",
       "      <td>1/22/2004</td>\n",
       "      <td>21.4180556</td>\n",
       "      <td>-157.803611</td>\n",
       "    </tr>\n",
       "  </tbody>\n",
       "</table>\n",
       "</div>"
      ],
      "text/plain": [
       "           datetime                  city state country     shape  \\\n",
       "0  10/10/1949 20:30            san marcos    tx      us  cylinder   \n",
       "1  10/10/1949 21:00          lackland afb    tx     NaN     light   \n",
       "2  10/10/1955 17:00  chester (uk/england)   NaN      gb    circle   \n",
       "3  10/10/1956 21:00                  edna    tx      us    circle   \n",
       "4  10/10/1960 20:00               kaneohe    hi      us     light   \n",
       "\n",
       "  duration (seconds) duration (hours/min)  \\\n",
       "0               2700           45 minutes   \n",
       "1               7200              1-2 hrs   \n",
       "2                 20           20 seconds   \n",
       "3                 20             1/2 hour   \n",
       "4                900           15 minutes   \n",
       "\n",
       "                                            comments date posted    latitude  \\\n",
       "0  This event took place in early fall around 194...   4/27/2004  29.8830556   \n",
       "1  1949 Lackland AFB&#44 TX.  Lights racing acros...  12/16/2005    29.38421   \n",
       "2  Green/Orange circular disc over Chester&#44 En...   1/21/2008        53.2   \n",
       "3  My older brother and twin sister were leaving ...   1/17/2004  28.9783333   \n",
       "4  AS a Marine 1st Lt. flying an FJ4B fighter/att...   1/22/2004  21.4180556   \n",
       "\n",
       "   longitude   \n",
       "0  -97.941111  \n",
       "1  -98.581082  \n",
       "2   -2.916667  \n",
       "3  -96.645833  \n",
       "4 -157.803611  "
      ]
     },
     "execution_count": 3,
     "metadata": {},
     "output_type": "execute_result"
    }
   ],
   "source": [
    "df_aliens.head()"
   ]
  },
  {
   "cell_type": "code",
   "execution_count": 4,
   "id": "21ebdd90",
   "metadata": {},
   "outputs": [
    {
     "data": {
      "text/html": [
       "<div>\n",
       "<style scoped>\n",
       "    .dataframe tbody tr th:only-of-type {\n",
       "        vertical-align: middle;\n",
       "    }\n",
       "\n",
       "    .dataframe tbody tr th {\n",
       "        vertical-align: top;\n",
       "    }\n",
       "\n",
       "    .dataframe thead th {\n",
       "        text-align: right;\n",
       "    }\n",
       "</style>\n",
       "<table border=\"1\" class=\"dataframe\">\n",
       "  <thead>\n",
       "    <tr style=\"text-align: right;\">\n",
       "      <th></th>\n",
       "      <th>variable</th>\n",
       "      <th>q_nan</th>\n",
       "      <th>p_nan</th>\n",
       "      <th>q_zeros</th>\n",
       "      <th>p_zeros</th>\n",
       "      <th>unique</th>\n",
       "      <th>type</th>\n",
       "    </tr>\n",
       "  </thead>\n",
       "  <tbody>\n",
       "    <tr>\n",
       "      <th>0</th>\n",
       "      <td>datetime</td>\n",
       "      <td>0</td>\n",
       "      <td>0.000000</td>\n",
       "      <td>0</td>\n",
       "      <td>0.0</td>\n",
       "      <td>69586</td>\n",
       "      <td>object</td>\n",
       "    </tr>\n",
       "    <tr>\n",
       "      <th>1</th>\n",
       "      <td>city</td>\n",
       "      <td>0</td>\n",
       "      <td>0.000000</td>\n",
       "      <td>0</td>\n",
       "      <td>0.0</td>\n",
       "      <td>19900</td>\n",
       "      <td>object</td>\n",
       "    </tr>\n",
       "    <tr>\n",
       "      <th>2</th>\n",
       "      <td>state</td>\n",
       "      <td>5797</td>\n",
       "      <td>0.072163</td>\n",
       "      <td>0</td>\n",
       "      <td>0.0</td>\n",
       "      <td>67</td>\n",
       "      <td>object</td>\n",
       "    </tr>\n",
       "    <tr>\n",
       "      <th>3</th>\n",
       "      <td>country</td>\n",
       "      <td>9670</td>\n",
       "      <td>0.120375</td>\n",
       "      <td>0</td>\n",
       "      <td>0.0</td>\n",
       "      <td>5</td>\n",
       "      <td>object</td>\n",
       "    </tr>\n",
       "    <tr>\n",
       "      <th>4</th>\n",
       "      <td>shape</td>\n",
       "      <td>1932</td>\n",
       "      <td>0.024050</td>\n",
       "      <td>0</td>\n",
       "      <td>0.0</td>\n",
       "      <td>29</td>\n",
       "      <td>object</td>\n",
       "    </tr>\n",
       "    <tr>\n",
       "      <th>5</th>\n",
       "      <td>duration (seconds)</td>\n",
       "      <td>0</td>\n",
       "      <td>0.000000</td>\n",
       "      <td>0</td>\n",
       "      <td>0.0</td>\n",
       "      <td>537</td>\n",
       "      <td>object</td>\n",
       "    </tr>\n",
       "    <tr>\n",
       "      <th>6</th>\n",
       "      <td>duration (hours/min)</td>\n",
       "      <td>0</td>\n",
       "      <td>0.000000</td>\n",
       "      <td>0</td>\n",
       "      <td>0.0</td>\n",
       "      <td>8349</td>\n",
       "      <td>object</td>\n",
       "    </tr>\n",
       "    <tr>\n",
       "      <th>7</th>\n",
       "      <td>comments</td>\n",
       "      <td>15</td>\n",
       "      <td>0.000187</td>\n",
       "      <td>0</td>\n",
       "      <td>0.0</td>\n",
       "      <td>79997</td>\n",
       "      <td>object</td>\n",
       "    </tr>\n",
       "    <tr>\n",
       "      <th>8</th>\n",
       "      <td>date posted</td>\n",
       "      <td>0</td>\n",
       "      <td>0.000000</td>\n",
       "      <td>0</td>\n",
       "      <td>0.0</td>\n",
       "      <td>317</td>\n",
       "      <td>object</td>\n",
       "    </tr>\n",
       "    <tr>\n",
       "      <th>9</th>\n",
       "      <td>latitude</td>\n",
       "      <td>0</td>\n",
       "      <td>0.000000</td>\n",
       "      <td>0</td>\n",
       "      <td>0.0</td>\n",
       "      <td>18445</td>\n",
       "      <td>object</td>\n",
       "    </tr>\n",
       "    <tr>\n",
       "      <th>10</th>\n",
       "      <td>longitude</td>\n",
       "      <td>0</td>\n",
       "      <td>0.000000</td>\n",
       "      <td>0</td>\n",
       "      <td>0.0</td>\n",
       "      <td>19455</td>\n",
       "      <td>float64</td>\n",
       "    </tr>\n",
       "  </tbody>\n",
       "</table>\n",
       "</div>"
      ],
      "text/plain": [
       "                variable  q_nan     p_nan  q_zeros  p_zeros  unique     type\n",
       "0               datetime      0  0.000000        0      0.0   69586   object\n",
       "1                   city      0  0.000000        0      0.0   19900   object\n",
       "2                  state   5797  0.072163        0      0.0      67   object\n",
       "3                country   9670  0.120375        0      0.0       5   object\n",
       "4                  shape   1932  0.024050        0      0.0      29   object\n",
       "5     duration (seconds)      0  0.000000        0      0.0     537   object\n",
       "6   duration (hours/min)      0  0.000000        0      0.0    8349   object\n",
       "7               comments     15  0.000187        0      0.0   79997   object\n",
       "8            date posted      0  0.000000        0      0.0     317   object\n",
       "9               latitude      0  0.000000        0      0.0   18445   object\n",
       "10            longitude       0  0.000000        0      0.0   19455  float64"
      ]
     },
     "execution_count": 4,
     "metadata": {},
     "output_type": "execute_result"
    }
   ],
   "source": [
    "status(df_aliens)"
   ]
  },
  {
   "cell_type": "code",
   "execution_count": 5,
   "id": "70bbb5b1",
   "metadata": {},
   "outputs": [
    {
     "name": "stdout",
     "output_type": "stream",
     "text": [
      "<class 'pandas.core.frame.DataFrame'>\n",
      "RangeIndex: 80332 entries, 0 to 80331\n",
      "Data columns (total 11 columns):\n",
      " #   Column                Non-Null Count  Dtype  \n",
      "---  ------                --------------  -----  \n",
      " 0   datetime              80332 non-null  object \n",
      " 1   city                  80332 non-null  object \n",
      " 2   state                 74535 non-null  object \n",
      " 3   country               70662 non-null  object \n",
      " 4   shape                 78400 non-null  object \n",
      " 5   duration (seconds)    80332 non-null  object \n",
      " 6   duration (hours/min)  80332 non-null  object \n",
      " 7   comments              80317 non-null  object \n",
      " 8   date posted           80332 non-null  object \n",
      " 9   latitude              80332 non-null  object \n",
      " 10  longitude             80332 non-null  float64\n",
      "dtypes: float64(1), object(10)\n",
      "memory usage: 6.7+ MB\n"
     ]
    }
   ],
   "source": [
    "df_aliens.info()"
   ]
  },
  {
   "cell_type": "code",
   "execution_count": 6,
   "id": "70d24634",
   "metadata": {
    "scrolled": true
   },
   "outputs": [
    {
     "data": {
      "text/html": [
       "<div>\n",
       "<style scoped>\n",
       "    .dataframe tbody tr th:only-of-type {\n",
       "        vertical-align: middle;\n",
       "    }\n",
       "\n",
       "    .dataframe tbody tr th {\n",
       "        vertical-align: top;\n",
       "    }\n",
       "\n",
       "    .dataframe thead th {\n",
       "        text-align: right;\n",
       "    }\n",
       "</style>\n",
       "<table border=\"1\" class=\"dataframe\">\n",
       "  <thead>\n",
       "    <tr style=\"text-align: right;\">\n",
       "      <th></th>\n",
       "      <th>datetime</th>\n",
       "      <th>city</th>\n",
       "      <th>state</th>\n",
       "      <th>country</th>\n",
       "      <th>shape</th>\n",
       "      <th>duration (seconds)</th>\n",
       "      <th>duration (hours/min)</th>\n",
       "      <th>comments</th>\n",
       "      <th>date posted</th>\n",
       "      <th>latitude</th>\n",
       "      <th>longitude</th>\n",
       "    </tr>\n",
       "  </thead>\n",
       "  <tbody>\n",
       "    <tr>\n",
       "      <th>43782</th>\n",
       "      <td>5/22/1974 05:30</td>\n",
       "      <td>mescalero indian reservation</td>\n",
       "      <td>nm</td>\n",
       "      <td>NaN</td>\n",
       "      <td>rectangle</td>\n",
       "      <td>180</td>\n",
       "      <td>two hours</td>\n",
       "      <td>Huge rectangular object emmitting intense whit...</td>\n",
       "      <td>4/18/2012</td>\n",
       "      <td>33q.200088</td>\n",
       "      <td>-105.624152</td>\n",
       "    </tr>\n",
       "  </tbody>\n",
       "</table>\n",
       "</div>"
      ],
      "text/plain": [
       "              datetime                          city state country      shape  \\\n",
       "43782  5/22/1974 05:30  mescalero indian reservation    nm     NaN  rectangle   \n",
       "\n",
       "      duration (seconds) duration (hours/min)  \\\n",
       "43782                180            two hours   \n",
       "\n",
       "                                                comments date posted  \\\n",
       "43782  Huge rectangular object emmitting intense whit...   4/18/2012   \n",
       "\n",
       "         latitude  longitude   \n",
       "43782  33q.200088 -105.624152  "
      ]
     },
     "execution_count": 6,
     "metadata": {},
     "output_type": "execute_result"
    }
   ],
   "source": [
    "# Checking where are the wierd values inside latitude\n",
    "\n",
    "df_aliens[df_aliens['latitude'].str.contains('[A-Za-z]', na=False)]"
   ]
  },
  {
   "cell_type": "code",
   "execution_count": 8,
   "id": "a78024ea",
   "metadata": {},
   "outputs": [
    {
     "data": {
      "text/plain": [
       "43782"
      ]
     },
     "execution_count": 8,
     "metadata": {},
     "output_type": "execute_result"
    }
   ],
   "source": [
    "X = df_aliens[df_aliens['latitude'].str.contains('[A-Za-z]', na=False)]\n",
    "X.index[0]"
   ]
  },
  {
   "cell_type": "code",
   "execution_count": null,
   "id": "ebbcefdc",
   "metadata": {},
   "outputs": [],
   "source": [
    "# Changing the wierd values inside latitude to float\n",
    "\n",
    "df_aliens = df_aliens.drop([43782])\n",
    "df_aliens = df_aliens.reset_index(drop=True)\n",
    "df_aliens['latitude'] = df_aliens['latitude'].dropna(axis=0)\n",
    "df_aliens['longitude'] =df_aliens['longitude '].dropna(axis=0)\n",
    "df_aliens['latitude'] = df_aliens['latitude'].astype(float)\n",
    "df_aliens['longitude'] = df_aliens['longitude '].astype(float)"
   ]
  },
  {
   "cell_type": "markdown",
   "id": "6ac4794c",
   "metadata": {},
   "source": [
    "## Reverse geocode"
   ]
  },
  {
   "cell_type": "code",
   "execution_count": null,
   "id": "ac5f4057",
   "metadata": {},
   "outputs": [],
   "source": [
    "import reverse_geocoder as rg\n",
    "coordinates = list(zip(df_aliens['latitude'], df_aliens['longitude']))\n",
    "results = rg.search(coordinates)"
   ]
  },
  {
   "cell_type": "code",
   "execution_count": null,
   "id": "78917e47",
   "metadata": {},
   "outputs": [],
   "source": [
    "df_aliens.loc[1,['latitude','longitude ','city','state','country']]"
   ]
  },
  {
   "cell_type": "code",
   "execution_count": null,
   "id": "fc0f4a56",
   "metadata": {},
   "outputs": [],
   "source": [
    "results_df = pd.DataFrame(results)\n",
    "df_aliens['country_c']=results_df['cc']\n",
    "df_aliens['city_c']=results_df['name']\n",
    "df_aliens['state_c'] = results_df['admin1']"
   ]
  },
  {
   "cell_type": "code",
   "execution_count": null,
   "id": "ff90d607",
   "metadata": {},
   "outputs": [],
   "source": [
    "df_aliens[['country','country_c','state','state_c','city','city_c']]"
   ]
  },
  {
   "cell_type": "code",
   "execution_count": null,
   "id": "7bfa9ac6",
   "metadata": {},
   "outputs": [],
   "source": [
    "# Checking for nan or '' values in state_c\n",
    "df_aliens[ (df_aliens['state_c'].notnull()) & (df_aliens['state_c']=='') ].index"
   ]
  },
  {
   "cell_type": "code",
   "execution_count": null,
   "id": "49bfaff4",
   "metadata": {},
   "outputs": [],
   "source": [
    "# Replace empty values in state_c with the city name\n",
    "df_aliens['state_c'] = df_aliens['state_c'].replace({'': np.nan})\n",
    "df_aliens['state_c'] = df_aliens['state_c'].fillna(df_aliens['city_c'])"
   ]
  },
  {
   "cell_type": "code",
   "execution_count": null,
   "id": "5ff6f5ee",
   "metadata": {},
   "outputs": [],
   "source": [
    "# Checking for nan or '' values in country_c\n",
    "df_aliens[ (df_aliens['country_c'].notnull()) & (df_aliens['country_c']=='') ].index # not a problem!"
   ]
  },
  {
   "cell_type": "code",
   "execution_count": null,
   "id": "88738bdb",
   "metadata": {},
   "outputs": [],
   "source": [
    "# Checking for nan or '' values in city_c\n",
    "df_aliens[ (df_aliens['city_c'].notnull()) & (df_aliens['city_c']=='') ].index # not a problem!"
   ]
  },
  {
   "cell_type": "markdown",
   "id": "beb36a16",
   "metadata": {},
   "source": [
    "## Drop the original city, state and country values"
   ]
  },
  {
   "cell_type": "code",
   "execution_count": null,
   "id": "a78b40ab",
   "metadata": {},
   "outputs": [],
   "source": [
    "df_aliens_filtered = df_aliens.drop(columns = ['longitude ', 'comments', 'city', 'state', 'country'])"
   ]
  },
  {
   "cell_type": "code",
   "execution_count": null,
   "id": "216140c8",
   "metadata": {},
   "outputs": [],
   "source": [
    "# Keeping only US cities/States\n",
    "df_aliens_filtered = df_aliens_filtered[df_aliens_filtered['country_c'] == 'US']"
   ]
  },
  {
   "cell_type": "code",
   "execution_count": null,
   "id": "bba36f19",
   "metadata": {},
   "outputs": [],
   "source": []
  },
  {
   "cell_type": "markdown",
   "id": "7310a6bd",
   "metadata": {},
   "source": [
    "## End product"
   ]
  },
  {
   "cell_type": "code",
   "execution_count": null,
   "id": "4ff0fcb2",
   "metadata": {},
   "outputs": [],
   "source": [
    "df_aliens_filtered.head()"
   ]
  },
  {
   "cell_type": "markdown",
   "id": "c3f22405",
   "metadata": {
    "heading_collapsed": true
   },
   "source": [
    "# Cleaning the worldcities location/population dataset - NOT IN USE"
   ]
  },
  {
   "cell_type": "code",
   "execution_count": null,
   "id": "eb3f5337",
   "metadata": {
    "hidden": true
   },
   "outputs": [],
   "source": [
    "# Reading locations datbase\n",
    "df_loc = pd.read_csv('../raw_data/worldcities.csv', low_memory=False)"
   ]
  },
  {
   "cell_type": "code",
   "execution_count": null,
   "id": "6d5f6dec",
   "metadata": {
    "hidden": true
   },
   "outputs": [],
   "source": [
    "df_loc.head()"
   ]
  },
  {
   "cell_type": "code",
   "execution_count": null,
   "id": "44bc6623",
   "metadata": {
    "hidden": true
   },
   "outputs": [],
   "source": [
    "df_loc.info()"
   ]
  },
  {
   "cell_type": "code",
   "execution_count": null,
   "id": "a0bcdf1a",
   "metadata": {
    "hidden": true
   },
   "outputs": [],
   "source": [
    "df_loc.info()"
   ]
  },
  {
   "cell_type": "code",
   "execution_count": null,
   "id": "8f868658",
   "metadata": {
    "hidden": true
   },
   "outputs": [],
   "source": [
    "# Checking for nan or '' values in iso2\n",
    "df_loc[ (df_loc['iso2'].notnull()) & (df_loc['iso2']=='') ].index # not a probelm!"
   ]
  },
  {
   "cell_type": "code",
   "execution_count": null,
   "id": "631856c5",
   "metadata": {
    "hidden": true
   },
   "outputs": [],
   "source": [
    "# Checking for nan or '' values in population\n",
    "df_loc[ (df_loc['population'].notnull()) & (df_loc['population']=='') ].index # not a probelm!"
   ]
  },
  {
   "cell_type": "code",
   "execution_count": null,
   "id": "45bbcebf",
   "metadata": {
    "hidden": true
   },
   "outputs": [],
   "source": [
    "# Dropping columns city, city_ascii, country, iso3, admin_name, capital, id\n",
    "df_loc_filtered = df_loc.drop(['lat', 'lng','city_ascii', 'country', 'iso3', 'admin_name', 'capital', 'id'],axis=1)"
   ]
  },
  {
   "cell_type": "code",
   "execution_count": null,
   "id": "e25cc3fc",
   "metadata": {
    "hidden": true
   },
   "outputs": [],
   "source": [
    "df_loc_filtered = df_loc_filtered.rename(columns={\n",
    "    'iso2':'country_p'})\n",
    "df_loc_filtered.head() # This is the cleaned locations database of all US cities"
   ]
  },
  {
   "cell_type": "code",
   "execution_count": null,
   "id": "2849b58a",
   "metadata": {
    "hidden": true
   },
   "outputs": [],
   "source": [
    "df_loc_filtered.shape"
   ]
  },
  {
   "cell_type": "markdown",
   "id": "6c2ca4c6",
   "metadata": {},
   "source": [
    "# Cleaning the US cities database"
   ]
  },
  {
   "cell_type": "markdown",
   "id": "a46cd4be",
   "metadata": {},
   "source": [
    "## Reading and cleaning"
   ]
  },
  {
   "cell_type": "code",
   "execution_count": null,
   "id": "f3f19127",
   "metadata": {},
   "outputs": [],
   "source": [
    "# Reading locations datbase\n",
    "df_us_cities = pd.read_csv('../raw_data/uscities.csv', low_memory=False)\n",
    "\n",
    "#df_us_cities= df_us_cities[['State', 'City', 'Population']].rename(columns = {'State': 'state_c','City':'city_c'})\n",
    "df_us_cities.head()"
   ]
  },
  {
   "cell_type": "markdown",
   "id": "4ba473b8",
   "metadata": {},
   "source": [
    "# Ploting"
   ]
  },
  {
   "cell_type": "code",
   "execution_count": null,
   "id": "aa182b42",
   "metadata": {},
   "outputs": [],
   "source": [
    "import folium\n",
    "from folium.plugins import HeatMap\n",
    "\n",
    "center_location = 29.8830556, -97.9411111\n",
    "m = folium.Map(location=center_location, control_scale=True, zoom_start=3)\n",
    "\n",
    "location_df = df_aliens_filtered[['latitude','longitude']]\n",
    "population_df = df_us_cities[['lat','lng','population']]\n",
    "population_df = population_df[population_df['population']>100000].sort_values(by =['population'])\n",
    "\n",
    "location_df['count'] = 1\n",
    "heatmap_data = location_df.groupby(['latitude', 'longitude']).sum().reset_index().values.tolist()\n",
    "gradient = {0.2: 'blue', 0.4: 'lime', 0.6: 'orange', 1: 'red'}\n",
    "HeatMap(data=heatmap_data, radius=5, gradient=gradient, max_zoom=13).add_to(m)\n",
    "\n",
    "for i in range(0,len(population_df)):\n",
    "    folium.Circle(\n",
    "      location=[population_df.iloc[i]['lat'], population_df.iloc[i]['lng']],\n",
    "      radius=float(population_df.iloc[i]['population'])*(1/100),\n",
    "      color='crimson',\n",
    "      fill=True,\n",
    "      fill_color='crimson'\n",
    "   ).add_to(m)\n",
    "\n",
    "m"
   ]
  },
  {
   "cell_type": "code",
   "execution_count": null,
   "id": "b86ee19f",
   "metadata": {},
   "outputs": [],
   "source": [
    "center_location = 29.8830556, -97.9411111\n",
    "m = folium.Map(location=center_location, control_scale=True, zoom_start=3)\n",
    "\n",
    "location_df = df_aliens_filtered[['latitude','longitude', 'city_c']]\n",
    "population_df = df_us_cities[['lat','lng','population']]\n",
    "population_df = population_df[population_df['population']>10000].sort_values(by=['population'])\n",
    "\n",
    "for i in range(0,len(location_df.head(1000))):\n",
    "    folium.Marker(\n",
    "      location=[location_df.iloc[i]['latitude'], location_df.iloc[i]['longitude']],\n",
    "      popup=location_df.iloc[i]['city_c'],\n",
    "   ).add_to(m)\n",
    "\n",
    "\n",
    "for i in range(0,len(population_df.head(10000))):\n",
    "    folium.Circle(\n",
    "      location=[population_df.iloc[i]['lat'], population_df.iloc[i]['lng']],\n",
    "      radius=float(population_df.iloc[i]['population'])*(1/50),\n",
    "      color='crimson',\n",
    "      fill=True,\n",
    "      fill_color='crimson'\n",
    "   ).add_to(m)\n",
    "\n",
    "m"
   ]
  },
  {
   "cell_type": "code",
   "execution_count": null,
   "id": "d9c47ca4",
   "metadata": {},
   "outputs": [],
   "source": [
    "center_location = 29.8830556, -97.9411111\n",
    "m = folium.Map(location=center_location, control_scale=True, zoom_start=3)\n",
    "\n",
    "location_df = df_aliens_filtered[['latitude','longitude']]\n",
    "population_df = df_us_cities[['lat','lng','population','city', 'military']]\n",
    "population_df = population_df[population_df['military']==True]\n",
    "\n",
    "location_df['count'] = 1\n",
    "heatmap_data = location_df.groupby(['latitude', 'longitude']).sum().reset_index().values.tolist()\n",
    "gradient = {0.2: 'blue', 0.4: 'lime', 0.6: 'orange', 1: 'red'}\n",
    "HeatMap(data=heatmap_data, radius=5, gradient=gradient, max_zoom=13).add_to(m)\n",
    "\n",
    "for i in range(0,len(population_df)):\n",
    "    folium.Marker(\n",
    "      location=[population_df.iloc[i]['lat'], population_df.iloc[i]['lng']],\n",
    "      popup=population_df.iloc[i]['city'],\n",
    "   ).add_to(m)\n",
    "\n",
    "m"
   ]
  },
  {
   "cell_type": "code",
   "execution_count": null,
   "id": "0ee3430b",
   "metadata": {},
   "outputs": [],
   "source": [
    "df_aliens_filtered.head()"
   ]
  },
  {
   "cell_type": "code",
   "execution_count": null,
   "id": "45041eff",
   "metadata": {},
   "outputs": [],
   "source": [
    "df_aliens_filtered['sightinghs'] = True\n",
    "df_aliens_3= df_aliens_filtered.rename(columns= {'city_c':'city'})\n",
    "df_aliens_3 = df_aliens_3[['city','latitude','longitude','sightinghs']]\n",
    "df_cities = df_us_cities[['city', 'military', 'population']]"
   ]
  },
  {
   "cell_type": "code",
   "execution_count": null,
   "id": "2351cb33",
   "metadata": {},
   "outputs": [],
   "source": [
    "merged = pd.merge(df_cities, df_aliens_3, on='city', how = 'outer')\n",
    "merged = merged[merged[\"sightinghs\"]!= 0]\n",
    "merged[\"sightinghs\"].fillna(False, inplace = False)\n",
    "merged['sightinghs'] = np.where((df['sightinghs'] == True),1,df['sightinghs'])"
   ]
  },
  {
   "cell_type": "code",
   "execution_count": null,
   "id": "e23d761a",
   "metadata": {},
   "outputs": [],
   "source": [
    "merged.corr()"
   ]
  },
  {
   "cell_type": "code",
   "execution_count": null,
   "id": "989ed5e0",
   "metadata": {},
   "outputs": [],
   "source": [
    "sns.pairplot(merged)\n",
    "sns.plt.show()"
   ]
  },
  {
   "cell_type": "code",
   "execution_count": null,
   "id": "319233ab",
   "metadata": {},
   "outputs": [],
   "source": []
  }
 ],
 "metadata": {
  "kernelspec": {
   "display_name": "Python 3",
   "language": "python",
   "name": "python3"
  },
  "language_info": {
   "codemirror_mode": {
    "name": "ipython",
    "version": 3
   },
   "file_extension": ".py",
   "mimetype": "text/x-python",
   "name": "python",
   "nbconvert_exporter": "python",
   "pygments_lexer": "ipython3",
   "version": "3.8.6"
  },
  "toc": {
   "base_numbering": 1,
   "nav_menu": {},
   "number_sections": true,
   "sideBar": true,
   "skip_h1_title": false,
   "title_cell": "Table of Contents",
   "title_sidebar": "Contents",
   "toc_cell": false,
   "toc_position": {},
   "toc_section_display": true,
   "toc_window_display": false
  }
 },
 "nbformat": 4,
 "nbformat_minor": 5
}
