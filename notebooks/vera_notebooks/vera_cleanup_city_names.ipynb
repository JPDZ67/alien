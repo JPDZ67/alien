{
 "cells": [
  {
   "cell_type": "code",
   "execution_count": 1,
   "id": "0838004a",
   "metadata": {},
   "outputs": [],
   "source": [
    "import pandas as pd"
   ]
  },
  {
   "cell_type": "code",
   "execution_count": 2,
   "id": "d3464401",
   "metadata": {},
   "outputs": [],
   "source": [
    "state_sightings_df = pd.read_csv('../../raw_data/state_sightings.csv', low_memory=False)"
   ]
  },
  {
   "cell_type": "code",
   "execution_count": 3,
   "id": "915949d5",
   "metadata": {},
   "outputs": [
    {
     "data": {
      "text/plain": [
       "0                  kirksville (near)\n",
       "1                        wills point\n",
       "2                             cicero\n",
       "3        atkinson (6 miles north of)\n",
       "4               buchanan  (or burns)\n",
       "                    ...             \n",
       "91067                      vincennes\n",
       "91068                    ft. collins\n",
       "91069                         racine\n",
       "91070                      belleview\n",
       "91071                        harding\n",
       "Name: city, Length: 91072, dtype: object"
      ]
     },
     "execution_count": 3,
     "metadata": {},
     "output_type": "execute_result"
    }
   ],
   "source": [
    "state_sightings_df.city"
   ]
  },
  {
   "cell_type": "code",
   "execution_count": 4,
   "id": "67939683",
   "metadata": {},
   "outputs": [
    {
     "data": {
      "text/plain": [
       "14175"
      ]
     },
     "execution_count": 4,
     "metadata": {},
     "output_type": "execute_result"
    }
   ],
   "source": [
    "state_sightings_df.city.nunique()"
   ]
  },
  {
   "cell_type": "code",
   "execution_count": 5,
   "id": "82f9a7c5",
   "metadata": {},
   "outputs": [],
   "source": [
    "import re\n",
    "regex = re.compile(\".*?\\((.*?)\\)\")\n",
    "def strip_string(string):\n",
    "    return re.sub(\"[\\(\\[].*?[\\)\\]]\", \"\", string).strip()\n",
    "\n",
    "state_sightings_df['city_cleaned'] = state_sightings_df['city'].apply(strip_string)"
   ]
  },
  {
   "cell_type": "code",
   "execution_count": 6,
   "id": "b3689157",
   "metadata": {},
   "outputs": [
    {
     "data": {
      "text/plain": [
       "12068"
      ]
     },
     "execution_count": 6,
     "metadata": {},
     "output_type": "execute_result"
    }
   ],
   "source": [
    "state_sightings_df.city_cleaned.nunique()"
   ]
  },
  {
   "cell_type": "code",
   "execution_count": null,
   "id": "86b4338a",
   "metadata": {},
   "outputs": [],
   "source": []
  }
 ],
 "metadata": {
  "kernelspec": {
   "display_name": "Python 3",
   "language": "python",
   "name": "python3"
  },
  "language_info": {
   "codemirror_mode": {
    "name": "ipython",
    "version": 3
   },
   "file_extension": ".py",
   "mimetype": "text/x-python",
   "name": "python",
   "nbconvert_exporter": "python",
   "pygments_lexer": "ipython3",
   "version": "3.8.6"
  },
  "toc": {
   "base_numbering": 1,
   "nav_menu": {},
   "number_sections": true,
   "sideBar": true,
   "skip_h1_title": false,
   "title_cell": "Table of Contents",
   "title_sidebar": "Contents",
   "toc_cell": false,
   "toc_position": {},
   "toc_section_display": true,
   "toc_window_display": false
  }
 },
 "nbformat": 4,
 "nbformat_minor": 5
}
