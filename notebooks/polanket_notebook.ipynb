{
 "cells": [
  {
   "cell_type": "markdown",
   "id": "handmade-coordinate",
   "metadata": {},
   "source": [
    "#UFO DATA EXPLORATION"
   ]
  },
  {
   "cell_type": "code",
   "execution_count": null,
   "id": "contemporary-double",
   "metadata": {},
   "outputs": [],
   "source": [
    "from datetime import timedelta\n",
    "import pandas as pd\n",
    "import matplotlib.pyplot as plt"
   ]
  },
  {
   "cell_type": "code",
   "execution_count": null,
   "id": "durable-hypothetical",
   "metadata": {},
   "outputs": [],
   "source": [
    "%%time\n",
    "#raw_data = pd.read_csv('./data/complete.csv')\n",
    "scrubbed_data = pd.read_csv('../raw_data/scrubbed.csv', low_memory=False)"
   ]
  },
  {
   "cell_type": "code",
   "execution_count": null,
   "id": "subjective-estimate",
   "metadata": {},
   "outputs": [],
   "source": [
    "scrubbed_data.head()"
   ]
  },
  {
   "cell_type": "code",
   "execution_count": null,
   "id": "handed-peeing",
   "metadata": {},
   "outputs": [],
   "source": [
    "import seaborn as sns\n",
    "plt.style.use('dark_background')\n",
    "plt.rcParams['font.size'] = 14\n",
    "plt.figure(figsize=(12,5))\n",
    "palette = sns.color_palette('Paired', 10)"
   ]
  },
  {
   "cell_type": "code",
   "execution_count": null,
   "id": "available-password",
   "metadata": {},
   "outputs": [],
   "source": [
    "scrubbed_data['country'].describe()"
   ]
  },
  {
   "cell_type": "code",
   "execution_count": null,
   "id": "loaded-motel",
   "metadata": {},
   "outputs": [],
   "source": [
    "sns.catplot(x=\"country\", kind=\"count\", palette=palette, data=scrubbed_data, height=5, aspect=3);\n",
    "sns.despine()\n",
    "plt.title('Sightings per country');\n",
    "plt.show()"
   ]
  },
  {
   "cell_type": "code",
   "execution_count": null,
   "id": "comprehensive-confirmation",
   "metadata": {},
   "outputs": [],
   "source": [
    "def extract_time_features(df):\n",
    "    timezone_name = 'America/New_York'\n",
    "    time_column = \"datetime\"\n",
    "    df['datetime_zero'] = df[time_column].str.replace('24:00', '0:00')\n",
    "    df['datetime_er'] = pd.to_datetime(df['datetime_zero'], format='%m/%d/%Y %H:%M')\n",
    "    selrow = df['datetime'].str.contains('24:00')\n",
    "    df[time_column] = df['datetime_er'] + selrow * timedelta(days=1)\n",
    "    df.index = pd.to_datetime(df[time_column])\n",
    "    df[\"dow\"] = df.index.weekday\n",
    "    df[\"hour\"] = df.index.hour\n",
    "    df[\"month\"] = df.index.month\n",
    "    df[\"year\"] = df.index.year\n",
    "    return df.reset_index(drop=True)"
   ]
  },
  {
   "cell_type": "code",
   "execution_count": null,
   "id": "intensive-production",
   "metadata": {},
   "outputs": [],
   "source": [
    "time_df = extract_time_features(scrubbed_data)"
   ]
  },
  {
   "cell_type": "code",
   "execution_count": null,
   "id": "available-entity",
   "metadata": {},
   "outputs": [],
   "source": [
    "sns.catplot(x=\"hour\", kind=\"count\", palette=palette, data=time_df, height=5, aspect=3);\n",
    "sns.despine()\n",
    "plt.title('Hour of Day');\n",
    "plt.show()"
   ]
  },
  {
   "cell_type": "code",
   "execution_count": null,
   "id": "98058689",
   "metadata": {},
   "outputs": [],
   "source": [
    "sns.catplot(x=\"year\", kind=\"count\", palette=palette, data=time_df, height=10, aspect=2);\n",
    "sns.despine()\n",
    "plt.title('Year');\n",
    "plt.show()"
   ]
  },
  {
   "cell_type": "code",
   "execution_count": null,
   "id": "impressive-carter",
   "metadata": {},
   "outputs": [],
   "source": [
    "sns.catplot(x=\"dow\", kind=\"count\", palette=palette, data=time_df, height=5, aspect=3);\n",
    "sns.despine()\n",
    "plt.title('Day of Week');\n",
    "plt.show()"
   ]
  },
  {
   "cell_type": "code",
   "execution_count": null,
   "id": "subjective-responsibility",
   "metadata": {},
   "outputs": [],
   "source": [
    "!pip install folium\n",
    "import folium\n",
    "from folium.plugins import HeatMap\n",
    "from folium.plugins import HeatMapWithTime"
   ]
  },
  {
   "cell_type": "code",
   "execution_count": null,
   "id": "statewide-fellow",
   "metadata": {},
   "outputs": [],
   "source": [
    "center_location = 29.8830556, -97.9411111\n",
    "m = folium.Map(location=center_location, control_scale=True, zoom_start=3)"
   ]
  },
  {
   "cell_type": "code",
   "execution_count": null,
   "id": "cheap-acceptance",
   "metadata": {},
   "outputs": [],
   "source": [
    "location_df = scrubbed_data[['latitude',\n",
    "                             'longitude ']]"
   ]
  },
  {
   "cell_type": "code",
   "execution_count": null,
   "id": "sustained-amateur",
   "metadata": {},
   "outputs": [],
   "source": [
    "location_df['count'] = 1\n",
    "heatmap_data = location_df.head(10000).groupby(['latitude', 'longitude ']).sum().reset_index().values.tolist()\n",
    "gradient = {0.2: 'blue', 0.4: 'lime', 0.6: 'orange', 1: 'red'}\n",
    "HeatMap(data=heatmap_data, radius=5, gradient=gradient, max_zoom=13).add_to(m)\n",
    "m"
   ]
  },
  {
   "cell_type": "code",
   "execution_count": null,
   "id": "rational-keyboard",
   "metadata": {},
   "outputs": [],
   "source": [
    "time_df['count'] = 1\n",
    "heatmap_data_by_hour = []\n",
    "__df__ = time_df.head(10000)\n",
    "for hour in time_df.hour.sort_values().unique():\n",
    "    _df = __df__[__df__.hour == hour][['longitude ', 'latitude', 'count']].groupby(['latitude', 'longitude ']).sum().reset_index().values.tolist()\n",
    "    heatmap_data_by_hour.append(_df)"
   ]
  },
  {
   "cell_type": "code",
   "execution_count": null,
   "id": "subject-sequence",
   "metadata": {},
   "outputs": [],
   "source": [
    "m2 = folium.Map(location=center_location, control_scale=True, zoom_start=11)\n",
    "HeatMapWithTime(heatmap_data_by_hour, radius=5, \n",
    "                gradient=gradient, \n",
    "                min_opacity=0.5, max_opacity=0.8, \n",
    "                use_local_extrema=False).add_to(m2)\n",
    "m2"
   ]
  },
  {
   "cell_type": "code",
   "execution_count": null,
   "id": "western-covering",
   "metadata": {},
   "outputs": [],
   "source": [
    "new_data = pd.read_csv('../raw_data/ufo.csv')"
   ]
  },
  {
   "cell_type": "code",
   "execution_count": null,
   "id": "0fbe9ce0",
   "metadata": {},
   "outputs": [],
   "source": [
    "new_data.head()"
   ]
  },
  {
   "cell_type": "code",
   "execution_count": null,
   "id": "5d9db4fa",
   "metadata": {},
   "outputs": [],
   "source": [
    "print(len(new_data))\n",
    "new_data = new_data.drop_duplicates()\n",
    "len(new_data)"
   ]
  },
  {
   "cell_type": "code",
   "execution_count": null,
   "id": "edd544be",
   "metadata": {},
   "outputs": [],
   "source": [
    "print(len(new_data))\n",
    "new_data = new_data.dropna()\n",
    "len(new_data)"
   ]
  },
  {
   "cell_type": "code",
   "execution_count": null,
   "id": "6f92c4e9",
   "metadata": {},
   "outputs": [],
   "source": [
    "new_data['Datetime'] = pd.to_datetime(new_data['Datetime'], errors='coerce')\n",
    "new_data.dtypes"
   ]
  },
  {
   "cell_type": "code",
   "execution_count": null,
   "id": "04ea8403",
   "metadata": {},
   "outputs": [],
   "source": [
    "latest_date = scrubbed_data['datetime'].max()\n",
    "latest_date"
   ]
  },
  {
   "cell_type": "code",
   "execution_count": null,
   "id": "ef39f184",
   "metadata": {},
   "outputs": [],
   "source": [
    "new_data = new_data[new_data['Datetime'] > latest_date]\n",
    "len(new_data)"
   ]
  },
  {
   "cell_type": "code",
   "execution_count": null,
   "id": "f9017ead",
   "metadata": {},
   "outputs": [],
   "source": [
    "new_data.min()"
   ]
  },
  {
   "cell_type": "code",
   "execution_count": null,
   "id": "7acbfb55",
   "metadata": {},
   "outputs": [],
   "source": [
    "new_data['full_address'] = new_data.City + ',' + new_data.State"
   ]
  },
  {
   "cell_type": "code",
   "execution_count": null,
   "id": "f5f83567",
   "metadata": {},
   "outputs": [],
   "source": [
    "from geopy.geocoders import Nominatim"
   ]
  },
  {
   "cell_type": "code",
   "execution_count": null,
   "id": "09a07c09",
   "metadata": {},
   "outputs": [],
   "source": [
    "geolocator = Nominatim(timeout=10, user_agent = \"myGeolocator\")\n",
    "\n",
    "def geocode_my_address(addr):\n",
    "  # function that won't crash if it runs into a bad address\n",
    "  print('geocoding:', addr)\n",
    "  try:\n",
    "    x = geolocator.geocode(addr)\n",
    "    lat_lng = x.latitude, x.longitude\n",
    "    return lat_lng\n",
    "  except:\n",
    "    print(\"problem with address:\", addr)\n",
    "    lat_lng = None, None\n",
    "    return lat_lng\n"
   ]
  },
  {
   "cell_type": "code",
   "execution_count": null,
   "id": "df6c0205",
   "metadata": {},
   "outputs": [],
   "source": [
    "new_data['latitude'], new_data['longitude'] = zip(*new_data['full_address'].apply(lambda x: geocode_my_address(x)))\n"
   ]
  },
  {
   "cell_type": "code",
   "execution_count": null,
   "id": "bad69852",
   "metadata": {},
   "outputs": [],
   "source": [
    "new_data['latitude'] = [g.latitude for g in new_data['geocode']]\n",
    "new_data['longitude'] = [g.longitude for g in new_data['geocode']]"
   ]
  },
  {
   "cell_type": "code",
   "execution_count": null,
   "id": "61cd3e75",
   "metadata": {},
   "outputs": [],
   "source": []
  }
 ],
 "metadata": {
  "kernelspec": {
   "display_name": "Python 3",
   "language": "python",
   "name": "python3"
  },
  "language_info": {
   "codemirror_mode": {
    "name": "ipython",
    "version": 3
   },
   "file_extension": ".py",
   "mimetype": "text/x-python",
   "name": "python",
   "nbconvert_exporter": "python",
   "pygments_lexer": "ipython3",
   "version": "3.8.6"
  },
  "toc": {
   "base_numbering": 1,
   "nav_menu": {},
   "number_sections": true,
   "sideBar": true,
   "skip_h1_title": false,
   "title_cell": "Table of Contents",
   "title_sidebar": "Contents",
   "toc_cell": false,
   "toc_position": {},
   "toc_section_display": true,
   "toc_window_display": false
  }
 },
 "nbformat": 4,
 "nbformat_minor": 5
}
