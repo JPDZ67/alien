{
 "cells": [
  {
   "cell_type": "markdown",
   "id": "8d195c3e",
   "metadata": {},
   "source": [
    "# FEATURE ENGINEERING: Military bases"
   ]
  },
  {
   "cell_type": "code",
   "execution_count": 1,
   "id": "6b0929d7",
   "metadata": {},
   "outputs": [],
   "source": [
    "from datetime import timedelta\n",
    "import pandas as pd\n",
    "import numpy as np\n",
    "import matplotlib.pyplot as plt"
   ]
  },
  {
   "cell_type": "code",
   "execution_count": 2,
   "id": "91a91c1c",
   "metadata": {},
   "outputs": [],
   "source": [
    "scrubbed_data = pd.read_csv('../raw_data/scrubbed.csv', low_memory=False)"
   ]
  },
  {
   "cell_type": "markdown",
   "id": "dcab9814",
   "metadata": {},
   "source": [
    "## License conditions to use uscities.csv ('../raw_data/license.txt') \n",
    "\n",
    "#### Free US Cities Database: The Provider offers a free version of the US Cities Database. This Database is offered free of charge conditional on a link back to https://simplemaps.com/data/us-cities. This backlink must come from a public webpage where the Customer is using the data. If the Customer uses the data internally, the backlink must be placed on the organization's website on a page that can be easily found though links on the root domain. The link must be clearly visible to the human eye. The backlink must be placed before the Customer uses the Database in production."
   ]
  },
  {
   "cell_type": "code",
   "execution_count": 3,
   "id": "7a448217",
   "metadata": {},
   "outputs": [
    {
     "data": {
      "text/plain": [
       "(28338, 17)"
      ]
     },
     "execution_count": 3,
     "metadata": {},
     "output_type": "execute_result"
    }
   ],
   "source": [
    "uscities_data = pd.read_csv('../raw_data/uscities.csv'); uscities_data.shape"
   ]
  },
  {
   "cell_type": "code",
   "execution_count": 4,
   "id": "b6298693",
   "metadata": {},
   "outputs": [
    {
     "data": {
      "text/plain": [
       "(85, 17)"
      ]
     },
     "execution_count": 4,
     "metadata": {},
     "output_type": "execute_result"
    }
   ],
   "source": [
    "military_data = uscities_data[uscities_data['military'] == True ]; military_data.shape"
   ]
  }
 ],
 "metadata": {
  "kernelspec": {
   "display_name": "Python 3",
   "language": "python",
   "name": "python3"
  },
  "language_info": {
   "codemirror_mode": {
    "name": "ipython",
    "version": 3
   },
   "file_extension": ".py",
   "mimetype": "text/x-python",
   "name": "python",
   "nbconvert_exporter": "python",
   "pygments_lexer": "ipython3",
   "version": "3.8.6"
  }
 },
 "nbformat": 4,
 "nbformat_minor": 5
}
