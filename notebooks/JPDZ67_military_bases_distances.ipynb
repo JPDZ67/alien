{
 "cells": [
  {
   "cell_type": "markdown",
   "id": "8d195c3e",
   "metadata": {},
   "source": [
    "# FEATURE ENGINEERING: Military bases"
   ]
  },
  {
   "cell_type": "code",
   "execution_count": 2,
   "id": "6b0929d7",
   "metadata": {},
   "outputs": [],
   "source": [
    "from datetime import timedelta\n",
    "import pandas as pd\n",
    "import numpy as np\n",
    "import matplotlib.pyplot as plt"
   ]
  },
  {
   "cell_type": "code",
   "execution_count": 4,
   "id": "91a91c1c",
   "metadata": {},
   "outputs": [],
   "source": [
    "scrubbed_data = pd.read_csv('../raw_data/scrubbed.csv', low_memory=False)"
   ]
  },
  {
   "cell_type": "code",
   "execution_count": 13,
   "id": "7a448217",
   "metadata": {},
   "outputs": [],
   "source": [
    "uscities_data = pd.read_csv('../raw_data/uscities.csv')"
   ]
  },
  {
   "cell_type": "code",
   "execution_count": 14,
   "id": "b6298693",
   "metadata": {},
   "outputs": [],
   "source": [
    "military_data = uscities_data[uscities_data['military'] == True ]"
   ]
  },
  {
   "cell_type": "code",
   "execution_count": 18,
   "id": "6b08c2f0",
   "metadata": {},
   "outputs": [
    {
     "data": {
      "text/plain": [
       "(28338, 17)"
      ]
     },
     "execution_count": 18,
     "metadata": {},
     "output_type": "execute_result"
    }
   ],
   "source": [
    "# military_data.shape\n",
    "uscities_data.shape"
   ]
  }
 ],
 "metadata": {
  "kernelspec": {
   "display_name": "Python 3",
   "language": "python",
   "name": "python3"
  },
  "language_info": {
   "codemirror_mode": {
    "name": "ipython",
    "version": 3
   },
   "file_extension": ".py",
   "mimetype": "text/x-python",
   "name": "python",
   "nbconvert_exporter": "python",
   "pygments_lexer": "ipython3",
   "version": "3.8.6"
  }
 },
 "nbformat": 4,
 "nbformat_minor": 5
}
