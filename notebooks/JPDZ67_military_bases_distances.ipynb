{
 "cells": [
  {
   "cell_type": "markdown",
   "id": "8d195c3e",
   "metadata": {},
   "source": [
    "# FEATURE ENGINEERING: Military bases"
   ]
  },
  {
   "cell_type": "code",
   "execution_count": 1,
   "id": "6b0929d7",
   "metadata": {},
   "outputs": [],
   "source": [
    "from datetime import timedelta\n",
    "import pandas as pd\n",
    "import numpy as np\n",
    "import matplotlib.pyplot as plt"
   ]
  },
  {
   "cell_type": "code",
   "execution_count": 2,
   "id": "91a91c1c",
   "metadata": {},
   "outputs": [],
   "source": [
    "scrubbed_data = pd.read_csv('../raw_data/scrubbed.csv', low_memory=False)"
   ]
  },
  {
   "cell_type": "markdown",
   "id": "23ae78c3",
   "metadata": {},
   "source": [
    "## License conditions to use uscities.csv ('../raw_data/license.txt') \n",
    "\n",
    "#### Free US Cities Database: The Provider offers a free version of the US Cities Database. This Database is offered free of charge conditional on a link back to https://simplemaps.com/data/us-cities. This backlink must come from a public webpage where the Customer is using the data. If the Customer uses the data internally, the backlink must be placed on the organization's website on a page that can be easily found though links on the root domain. The link must be clearly visible to the human eye. The backlink must be placed before the Customer uses the Database in production."
   ]
  },
  {
   "cell_type": "code",
   "execution_count": 3,
   "id": "7a448217",
   "metadata": {},
   "outputs": [
    {
     "data": {
      "text/plain": [
       "(28338, 17)"
      ]
     },
     "execution_count": 3,
     "metadata": {},
     "output_type": "execute_result"
    }
   ],
   "source": [
    "uscities_data = pd.read_csv('../raw_data/uscities.csv'); uscities_data.shape"
   ]
  },
  {
   "cell_type": "code",
   "execution_count": 4,
   "id": "b6298693",
   "metadata": {},
   "outputs": [
    {
     "data": {
      "text/plain": [
       "(85, 17)"
      ]
     },
     "execution_count": 4,
     "metadata": {},
     "output_type": "execute_result"
    }
   ],
   "source": [
    "military_data = uscities_data[uscities_data['military'] == True ]; military_data.shape"
   ]
  },
  {
   "cell_type": "markdown",
   "id": "9549b6ba",
   "metadata": {},
   "source": [
    "#### Fields' description >> https://simplemaps.com/data/us-cities"
   ]
  },
  {
   "cell_type": "code",
   "execution_count": 6,
   "id": "2082dbef",
   "metadata": {},
   "outputs": [
    {
     "data": {
      "text/html": [
       "<div>\n",
       "<style scoped>\n",
       "    .dataframe tbody tr th:only-of-type {\n",
       "        vertical-align: middle;\n",
       "    }\n",
       "\n",
       "    .dataframe tbody tr th {\n",
       "        vertical-align: top;\n",
       "    }\n",
       "\n",
       "    .dataframe thead th {\n",
       "        text-align: right;\n",
       "    }\n",
       "</style>\n",
       "<table border=\"1\" class=\"dataframe\">\n",
       "  <thead>\n",
       "    <tr style=\"text-align: right;\">\n",
       "      <th></th>\n",
       "      <th>city</th>\n",
       "      <th>city_ascii</th>\n",
       "      <th>state_id</th>\n",
       "      <th>state_name</th>\n",
       "      <th>county_fips</th>\n",
       "      <th>county_name</th>\n",
       "      <th>lat</th>\n",
       "      <th>lng</th>\n",
       "      <th>population</th>\n",
       "      <th>density</th>\n",
       "      <th>source</th>\n",
       "      <th>military</th>\n",
       "      <th>incorporated</th>\n",
       "      <th>timezone</th>\n",
       "      <th>ranking</th>\n",
       "      <th>zips</th>\n",
       "      <th>id</th>\n",
       "    </tr>\n",
       "  </thead>\n",
       "  <tbody>\n",
       "    <tr>\n",
       "      <th>1880</th>\n",
       "      <td>Edgewood</td>\n",
       "      <td>Edgewood</td>\n",
       "      <td>MD</td>\n",
       "      <td>Maryland</td>\n",
       "      <td>24025</td>\n",
       "      <td>Harford</td>\n",
       "      <td>39.4210</td>\n",
       "      <td>-76.2968</td>\n",
       "      <td>25574</td>\n",
       "      <td>555</td>\n",
       "      <td>polygon</td>\n",
       "      <td>True</td>\n",
       "      <td>True</td>\n",
       "      <td>America/New_York</td>\n",
       "      <td>3</td>\n",
       "      <td>21009 21010 21040</td>\n",
       "      <td>1840005661</td>\n",
       "    </tr>\n",
       "    <tr>\n",
       "      <th>2066</th>\n",
       "      <td>Fort Hood</td>\n",
       "      <td>Fort Hood</td>\n",
       "      <td>TX</td>\n",
       "      <td>Texas</td>\n",
       "      <td>48027</td>\n",
       "      <td>Bell</td>\n",
       "      <td>31.1345</td>\n",
       "      <td>-97.7797</td>\n",
       "      <td>23508</td>\n",
       "      <td>579</td>\n",
       "      <td>polygon</td>\n",
       "      <td>True</td>\n",
       "      <td>True</td>\n",
       "      <td>America/Chicago</td>\n",
       "      <td>3</td>\n",
       "      <td>76544</td>\n",
       "      <td>1840073932</td>\n",
       "    </tr>\n",
       "    <tr>\n",
       "      <th>2458</th>\n",
       "      <td>Schofield Barracks</td>\n",
       "      <td>Schofield Barracks</td>\n",
       "      <td>HI</td>\n",
       "      <td>Hawaii</td>\n",
       "      <td>15003</td>\n",
       "      <td>Honolulu</td>\n",
       "      <td>21.4936</td>\n",
       "      <td>-158.0617</td>\n",
       "      <td>19499</td>\n",
       "      <td>2716</td>\n",
       "      <td>polygon</td>\n",
       "      <td>True</td>\n",
       "      <td>True</td>\n",
       "      <td>Pacific/Honolulu</td>\n",
       "      <td>2</td>\n",
       "      <td>96857 96786</td>\n",
       "      <td>1840075052</td>\n",
       "    </tr>\n",
       "    <tr>\n",
       "      <th>2891</th>\n",
       "      <td>Fort Leonard Wood</td>\n",
       "      <td>Fort Leonard Wood</td>\n",
       "      <td>MO</td>\n",
       "      <td>Missouri</td>\n",
       "      <td>29169</td>\n",
       "      <td>Pulaski</td>\n",
       "      <td>37.7562</td>\n",
       "      <td>-92.1274</td>\n",
       "      <td>16026</td>\n",
       "      <td>268</td>\n",
       "      <td>polygon</td>\n",
       "      <td>True</td>\n",
       "      <td>True</td>\n",
       "      <td>America/Chicago</td>\n",
       "      <td>3</td>\n",
       "      <td>65473</td>\n",
       "      <td>1840073756</td>\n",
       "    </tr>\n",
       "    <tr>\n",
       "      <th>3040</th>\n",
       "      <td>Fort Carson</td>\n",
       "      <td>Fort Carson</td>\n",
       "      <td>CO</td>\n",
       "      <td>Colorado</td>\n",
       "      <td>8041</td>\n",
       "      <td>El Paso</td>\n",
       "      <td>38.7403</td>\n",
       "      <td>-104.7840</td>\n",
       "      <td>14951</td>\n",
       "      <td>672</td>\n",
       "      <td>polygon</td>\n",
       "      <td>True</td>\n",
       "      <td>True</td>\n",
       "      <td>America/Denver</td>\n",
       "      <td>3</td>\n",
       "      <td>80902 80913</td>\n",
       "      <td>1840028557</td>\n",
       "    </tr>\n",
       "  </tbody>\n",
       "</table>\n",
       "</div>"
      ],
      "text/plain": [
       "                    city          city_ascii state_id state_name  county_fips  \\\n",
       "1880            Edgewood            Edgewood       MD   Maryland        24025   \n",
       "2066           Fort Hood           Fort Hood       TX      Texas        48027   \n",
       "2458  Schofield Barracks  Schofield Barracks       HI     Hawaii        15003   \n",
       "2891   Fort Leonard Wood   Fort Leonard Wood       MO   Missouri        29169   \n",
       "3040         Fort Carson         Fort Carson       CO   Colorado         8041   \n",
       "\n",
       "     county_name      lat       lng  population  density   source  military  \\\n",
       "1880     Harford  39.4210  -76.2968       25574      555  polygon      True   \n",
       "2066        Bell  31.1345  -97.7797       23508      579  polygon      True   \n",
       "2458    Honolulu  21.4936 -158.0617       19499     2716  polygon      True   \n",
       "2891     Pulaski  37.7562  -92.1274       16026      268  polygon      True   \n",
       "3040     El Paso  38.7403 -104.7840       14951      672  polygon      True   \n",
       "\n",
       "      incorporated          timezone  ranking               zips          id  \n",
       "1880          True  America/New_York        3  21009 21010 21040  1840005661  \n",
       "2066          True   America/Chicago        3              76544  1840073932  \n",
       "2458          True  Pacific/Honolulu        2        96857 96786  1840075052  \n",
       "2891          True   America/Chicago        3              65473  1840073756  \n",
       "3040          True    America/Denver        3        80902 80913  1840028557  "
      ]
     },
     "execution_count": 6,
     "metadata": {},
     "output_type": "execute_result"
    }
   ],
   "source": [
    "military_data.head()"
   ]
  }
 ],
 "metadata": {
  "kernelspec": {
   "display_name": "Python 3",
   "language": "python",
   "name": "python3"
  },
  "language_info": {
   "codemirror_mode": {
    "name": "ipython",
    "version": 3
   },
   "file_extension": ".py",
   "mimetype": "text/x-python",
   "name": "python",
   "nbconvert_exporter": "python",
   "pygments_lexer": "ipython3",
   "version": "3.8.6"
  }
 },
 "nbformat": 4,
 "nbformat_minor": 5
}
